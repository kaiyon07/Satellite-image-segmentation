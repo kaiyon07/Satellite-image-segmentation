{
 "cells": [
  {
   "cell_type": "code",
   "execution_count": 4,
   "metadata": {},
   "outputs": [],
   "source": [
    "#Imports\n",
    "import cv2\n",
    "import matplotlib.pyplot as plt\n",
    "import numpy as np\n",
    "import math\n",
    "import tifffile as tiff\n",
    "import os\n",
    "from keras.utils import to_categorical\n",
    "from skimage import io\n",
    "from skimage.filters import roberts, sobel"
   ]
  },
  {
   "cell_type": "code",
   "execution_count": 5,
   "metadata": {
    "collapsed": true
   },
   "outputs": [],
   "source": [
    "#Function for creating a single digit class labels from the 3-Channel Ground Truth\n",
    "def create_class_labels(dir_name):\n",
    "    \n",
    "    \n",
    "    patch_size = 96\n",
    "    lst=[]\n",
    "    d = {0: 0, 2715: 7, 2220: 6, 2830: 8, 1110: 4, 280: 9, 95: 1, 1500: 5, 125: 2, 255: 3}\n",
    "    dict_cnt=0\n",
    "    for i in os.listdir(dir_name):\n",
    "        print (dir_name+\"/\"+i)\n",
    "        img = io.imread(dir_name+\"/\"+i)\n",
    "\n",
    "        im = np.copy(img)\n",
    "        print (img.shape)\n",
    "        \n",
    "        old_size = im.shape[:2] # old_size is in (height, width) format\n",
    "        \n",
    "        delta_w = patch_size * (old_size[1]//patch_size) + patch_size  - old_size[1]\n",
    "        delta_h = patch_size * (old_size[0]//patch_size)+ patch_size - old_size[0]\n",
    "\n",
    "        top, bottom = delta_h//2, delta_h-(delta_h//2)\n",
    "        left, right = delta_w//2, delta_w-(delta_w//2)\n",
    "        \n",
    "        print (delta_w,delta_h)\n",
    "\n",
    "        color = [200,200,200]\n",
    "\n",
    "\n",
    "        new_im = cv2.copyMakeBorder(im, top, bottom, left, right, cv2.BORDER_CONSTANT,\n",
    "            value=color)\n",
    "        \n",
    "        res = new_im[:,:,0].astype(np.float32)*.01 + new_im[:,:,1].astype(np.float32)*.1 + new_im[:,:,2].astype(np.float32)*1\n",
    "        res = np.uint32(res*10)\n",
    "        \n",
    "        unique_vals = np.unique(res)\n",
    "        \n",
    "        for q in unique_vals:\n",
    "            #print (q)\n",
    "            if q in d:\n",
    "                \n",
    "                res[res==q] = d[q]\n",
    "            else:\n",
    "                \n",
    "                print (\"Not Found!\")\n",
    "     \n",
    "            \n",
    "            \n",
    "        io.imsave(\"arrays/train_y\"+\"/\"+str(i),res)\n",
    "        print (res.shape)\n",
    "        \n",
    "    print (dict_cnt)\n",
    "    print (d)\n"
   ]
  },
  {
   "cell_type": "code",
   "execution_count": 43,
   "metadata": {},
   "outputs": [
    {
     "name": "stdout",
     "output_type": "stream",
     "text": [
      "train_gt/13.tif\n",
      "(1476, 1524, 3)\n",
      "12 60\n",
      "(1536, 1536)\n",
      "train_gt/4.tif\n",
      "(1639, 1672, 3)\n",
      "56 89\n",
      "(1728, 1728)\n",
      "train_gt/2.tif\n",
      "(926, 943, 3)\n",
      "17 34\n",
      "(960, 960)\n",
      "train_gt/14.tif\n",
      "(622, 782, 3)\n",
      "82 50\n",
      "(672, 864)\n",
      "train_gt/8.tif\n",
      "(1146, 872, 3)\n",
      "88 6\n"
     ]
    },
    {
     "name": "stderr",
     "output_type": "stream",
     "text": [
      "/home/rithwik/anaconda3/lib/python3.6/site-packages/skimage/io/_io.py:132: UserWarning: ../arrays/train_y/13.tif is a low contrast image\n",
      "  warn('%s is a low contrast image' % fname)\n",
      "/home/rithwik/anaconda3/lib/python3.6/site-packages/skimage/io/_io.py:132: UserWarning: ../arrays/train_y/4.tif is a low contrast image\n",
      "  warn('%s is a low contrast image' % fname)\n",
      "/home/rithwik/anaconda3/lib/python3.6/site-packages/skimage/io/_io.py:132: UserWarning: ../arrays/train_y/2.tif is a low contrast image\n",
      "  warn('%s is a low contrast image' % fname)\n",
      "/home/rithwik/anaconda3/lib/python3.6/site-packages/skimage/io/_io.py:132: UserWarning: ../arrays/train_y/14.tif is a low contrast image\n",
      "  warn('%s is a low contrast image' % fname)\n",
      "/home/rithwik/anaconda3/lib/python3.6/site-packages/skimage/io/_io.py:132: UserWarning: ../arrays/train_y/8.tif is a low contrast image\n",
      "  warn('%s is a low contrast image' % fname)\n",
      "/home/rithwik/anaconda3/lib/python3.6/site-packages/skimage/io/_io.py:132: UserWarning: ../arrays/train_y/3.tif is a low contrast image\n",
      "  warn('%s is a low contrast image' % fname)\n"
     ]
    },
    {
     "name": "stdout",
     "output_type": "stream",
     "text": [
      "(1152, 960)\n",
      "train_gt/3.tif\n",
      "(1107, 1182, 3)\n",
      "66 45\n",
      "(1152, 1248)\n",
      "train_gt/7.tif\n",
      "(957, 1050, 3)\n",
      "6 3\n",
      "(960, 1056)\n",
      "train_gt/6.tif\n",
      "(786, 910, 3)\n",
      "50 78\n",
      "(864, 960)\n",
      "train_gt/5.tif\n",
      "(1342, 1447, 3)\n",
      "89 2\n",
      "(1344, 1536)\n",
      "train_gt/10.tif\n",
      "(1066, 1491, 3)\n",
      "45 86\n",
      "(1152, 1536)\n",
      "train_gt/9.tif\n",
      "(748, 800, 3)\n",
      "64 20\n"
     ]
    },
    {
     "name": "stderr",
     "output_type": "stream",
     "text": [
      "/home/rithwik/anaconda3/lib/python3.6/site-packages/skimage/io/_io.py:132: UserWarning: ../arrays/train_y/7.tif is a low contrast image\n",
      "  warn('%s is a low contrast image' % fname)\n",
      "/home/rithwik/anaconda3/lib/python3.6/site-packages/skimage/io/_io.py:132: UserWarning: ../arrays/train_y/6.tif is a low contrast image\n",
      "  warn('%s is a low contrast image' % fname)\n",
      "/home/rithwik/anaconda3/lib/python3.6/site-packages/skimage/io/_io.py:132: UserWarning: ../arrays/train_y/5.tif is a low contrast image\n",
      "  warn('%s is a low contrast image' % fname)\n",
      "/home/rithwik/anaconda3/lib/python3.6/site-packages/skimage/io/_io.py:132: UserWarning: ../arrays/train_y/10.tif is a low contrast image\n",
      "  warn('%s is a low contrast image' % fname)\n",
      "/home/rithwik/anaconda3/lib/python3.6/site-packages/skimage/io/_io.py:132: UserWarning: ../arrays/train_y/9.tif is a low contrast image\n",
      "  warn('%s is a low contrast image' % fname)\n",
      "/home/rithwik/anaconda3/lib/python3.6/site-packages/skimage/io/_io.py:132: UserWarning: ../arrays/train_y/12.tif is a low contrast image\n",
      "  warn('%s is a low contrast image' % fname)\n",
      "/home/rithwik/anaconda3/lib/python3.6/site-packages/skimage/io/_io.py:132: UserWarning: ../arrays/train_y/11.tif is a low contrast image\n",
      "  warn('%s is a low contrast image' % fname)\n"
     ]
    },
    {
     "name": "stdout",
     "output_type": "stream",
     "text": [
      "(768, 864)\n",
      "train_gt/12.tif\n",
      "(812, 984, 3)\n",
      "72 52\n",
      "(864, 1056)\n",
      "train_gt/11.tif\n",
      "(1001, 1068, 3)\n",
      "84 55\n",
      "(1056, 1152)\n",
      "train_gt/1.tif\n",
      "(1295, 1364, 3)\n",
      "76 49\n",
      "(1344, 1440)\n",
      "0\n",
      "{0: 0, 2715: 7, 2220: 6, 2830: 8, 1110: 4, 280: 9, 95: 1, 1500: 5, 125: 2, 255: 3}\n"
     ]
    },
    {
     "name": "stderr",
     "output_type": "stream",
     "text": [
      "/home/rithwik/anaconda3/lib/python3.6/site-packages/skimage/io/_io.py:132: UserWarning: ../arrays/train_y/1.tif is a low contrast image\n",
      "  warn('%s is a low contrast image' % fname)\n"
     ]
    }
   ],
   "source": [
    "create_class_labels('train_gt')"
   ]
  },
  {
   "cell_type": "code",
   "execution_count": null,
   "metadata": {},
   "outputs": [],
   "source": []
  },
  {
   "cell_type": "code",
   "execution_count": 6,
   "metadata": {
    "collapsed": true
   },
   "outputs": [],
   "source": [
    "#FUnction to pad the directory  so that images inside it can be made into patches\n",
    "def pad_folder(dir_name):\n",
    "    \n",
    "    \n",
    "    lst=[]\n",
    "    patch_size = 96\n",
    "    for i in os.listdir(dir_name):\n",
    "        \n",
    "        img = io.imread(dir_name+\"/\"+i)\n",
    "\n",
    "        im = np.copy(img)\n",
    "        \n",
    "        image=im[:,:,:]\n",
    "        image=np.dot(image[...,:],[0.25,0.25,0.25,0.25])\n",
    "        edge_sobel = sobel(image)\n",
    "        edge_sobel = np.expand_dims(np.where(edge_sobel>80,4096,0),axis=2)\n",
    "        \n",
    "\n",
    "        old_size = im.shape[:2] # old_size is in (height, width) format\n",
    "        \n",
    "        delta_w = patch_size * (old_size[1]//patch_size) + patch_size  - old_size[1]\n",
    "        delta_h = patch_size * (old_size[0]//patch_size)+ patch_size - old_size[0]\n",
    "        \n",
    "\n",
    "        top, bottom = delta_h//2, delta_h-(delta_h//2)\n",
    "        left, right = delta_w//2, delta_w-(delta_w//2)\n",
    "\n",
    "        color = [0,0,0]\n",
    "\n",
    "        first_three_channels = cv2.copyMakeBorder(im[:,:,:3], top, bottom, left, right, cv2.BORDER_CONSTANT,value=color)\n",
    "        \n",
    "        color = [0]\n",
    "        \n",
    "        nir_channel = np.expand_dims(cv2.copyMakeBorder(im[:,:,3], top, bottom, left, right, cv2.BORDER_CONSTANT,value=color),axis=2)\n",
    "        \n",
    "        edge_channel = np.expand_dims(cv2.copyMakeBorder(edge_sobel, top, bottom, left, right, cv2.BORDER_CONSTANT,value=color),axis=2)\n",
    "        \n",
    "        \n",
    "        print (first_three_channels.shape,nir_channel.shape,edge_channel.shape)\n",
    "        new_im = np.concatenate((first_three_channels,nir_channel,edge_channel),axis=2)\n",
    "        \n",
    "\n",
    "            \n",
    "        io.imsave(\"/arrays/\"+dir_name+\"/\"+str(i),new_im)\n",
    "        print (new_im.shape)\n",
    "\n"
   ]
  },
  {
   "cell_type": "code",
   "execution_count": 46,
   "metadata": {},
   "outputs": [
    {
     "name": "stdout",
     "output_type": "stream",
     "text": [
      "(1536, 1536, 3) (1536, 1536, 1) (1536, 1536, 1)\n",
      "(1536, 1536, 5)\n"
     ]
    },
    {
     "name": "stderr",
     "output_type": "stream",
     "text": [
      "/home/rithwik/anaconda3/lib/python3.6/site-packages/skimage/io/_io.py:132: UserWarning: ../arrays/train_x/13.tif is a low contrast image\n",
      "  warn('%s is a low contrast image' % fname)\n"
     ]
    },
    {
     "name": "stdout",
     "output_type": "stream",
     "text": [
      "(1728, 1728, 3) (1728, 1728, 1) (1728, 1728, 1)\n",
      "(1728, 1728, 5)\n"
     ]
    },
    {
     "name": "stderr",
     "output_type": "stream",
     "text": [
      "/home/rithwik/anaconda3/lib/python3.6/site-packages/skimage/io/_io.py:132: UserWarning: ../arrays/train_x/4.tif is a low contrast image\n",
      "  warn('%s is a low contrast image' % fname)\n",
      "/home/rithwik/anaconda3/lib/python3.6/site-packages/skimage/io/_io.py:132: UserWarning: ../arrays/train_x/2.tif is a low contrast image\n",
      "  warn('%s is a low contrast image' % fname)\n",
      "/home/rithwik/anaconda3/lib/python3.6/site-packages/skimage/io/_io.py:132: UserWarning: ../arrays/train_x/14.tif is a low contrast image\n",
      "  warn('%s is a low contrast image' % fname)\n"
     ]
    },
    {
     "name": "stdout",
     "output_type": "stream",
     "text": [
      "(960, 960, 3) (960, 960, 1) (960, 960, 1)\n",
      "(960, 960, 5)\n",
      "(672, 864, 3) (672, 864, 1) (672, 864, 1)\n",
      "(672, 864, 5)\n",
      "(1152, 960, 3) (1152, 960, 1) (1152, 960, 1)\n"
     ]
    },
    {
     "name": "stderr",
     "output_type": "stream",
     "text": [
      "/home/rithwik/anaconda3/lib/python3.6/site-packages/skimage/io/_io.py:132: UserWarning: ../arrays/train_x/8.tif is a low contrast image\n",
      "  warn('%s is a low contrast image' % fname)\n",
      "/home/rithwik/anaconda3/lib/python3.6/site-packages/skimage/io/_io.py:132: UserWarning: ../arrays/train_x/3.tif is a low contrast image\n",
      "  warn('%s is a low contrast image' % fname)\n"
     ]
    },
    {
     "name": "stdout",
     "output_type": "stream",
     "text": [
      "(1152, 960, 5)\n",
      "(1152, 1248, 3) (1152, 1248, 1) (1152, 1248, 1)\n",
      "(1152, 1248, 5)\n",
      "(960, 1056, 3) (960, 1056, 1) (960, 1056, 1)\n",
      "(960, 1056, 5)\n",
      "(864, 960, 3) (864, 960, 1) (864, 960, 1)\n",
      "(864, 960, 5)\n"
     ]
    },
    {
     "name": "stderr",
     "output_type": "stream",
     "text": [
      "/home/rithwik/anaconda3/lib/python3.6/site-packages/skimage/io/_io.py:132: UserWarning: ../arrays/train_x/7.tif is a low contrast image\n",
      "  warn('%s is a low contrast image' % fname)\n",
      "/home/rithwik/anaconda3/lib/python3.6/site-packages/skimage/io/_io.py:132: UserWarning: ../arrays/train_x/6.tif is a low contrast image\n",
      "  warn('%s is a low contrast image' % fname)\n"
     ]
    },
    {
     "name": "stdout",
     "output_type": "stream",
     "text": [
      "(1344, 1536, 3) (1344, 1536, 1) (1344, 1536, 1)\n",
      "(1344, 1536, 5)\n"
     ]
    },
    {
     "name": "stderr",
     "output_type": "stream",
     "text": [
      "/home/rithwik/anaconda3/lib/python3.6/site-packages/skimage/io/_io.py:132: UserWarning: ../arrays/train_x/5.tif is a low contrast image\n",
      "  warn('%s is a low contrast image' % fname)\n",
      "/home/rithwik/anaconda3/lib/python3.6/site-packages/skimage/io/_io.py:132: UserWarning: ../arrays/train_x/10.tif is a low contrast image\n",
      "  warn('%s is a low contrast image' % fname)\n"
     ]
    },
    {
     "name": "stdout",
     "output_type": "stream",
     "text": [
      "(1152, 1536, 3) (1152, 1536, 1) (1152, 1536, 1)\n",
      "(1152, 1536, 5)\n",
      "(768, 864, 3) (768, 864, 1) (768, 864, 1)\n",
      "(768, 864, 5)\n"
     ]
    },
    {
     "name": "stderr",
     "output_type": "stream",
     "text": [
      "/home/rithwik/anaconda3/lib/python3.6/site-packages/skimage/io/_io.py:132: UserWarning: ../arrays/train_x/9.tif is a low contrast image\n",
      "  warn('%s is a low contrast image' % fname)\n",
      "/home/rithwik/anaconda3/lib/python3.6/site-packages/skimage/io/_io.py:132: UserWarning: ../arrays/train_x/12.tif is a low contrast image\n",
      "  warn('%s is a low contrast image' % fname)\n",
      "/home/rithwik/anaconda3/lib/python3.6/site-packages/skimage/io/_io.py:132: UserWarning: ../arrays/train_x/11.tif is a low contrast image\n",
      "  warn('%s is a low contrast image' % fname)\n"
     ]
    },
    {
     "name": "stdout",
     "output_type": "stream",
     "text": [
      "(864, 1056, 3) (864, 1056, 1) (864, 1056, 1)\n",
      "(864, 1056, 5)\n",
      "(1056, 1152, 3) (1056, 1152, 1) (1056, 1152, 1)\n",
      "(1056, 1152, 5)\n",
      "(1344, 1440, 3) (1344, 1440, 1) (1344, 1440, 1)\n",
      "(1344, 1440, 5)\n"
     ]
    },
    {
     "name": "stderr",
     "output_type": "stream",
     "text": [
      "/home/rithwik/anaconda3/lib/python3.6/site-packages/skimage/io/_io.py:132: UserWarning: ../arrays/train_x/1.tif is a low contrast image\n",
      "  warn('%s is a low contrast image' % fname)\n"
     ]
    }
   ],
   "source": [
    "pad_folder(\"train_x/\")\n",
    "#pad_folder(\"test_x\")"
   ]
  },
  {
   "cell_type": "code",
   "execution_count": null,
   "metadata": {
    "collapsed": true
   },
   "outputs": [],
   "source": []
  },
  {
   "cell_type": "code",
   "execution_count": null,
   "metadata": {
    "collapsed": true
   },
   "outputs": [],
   "source": []
  },
  {
   "cell_type": "code",
   "execution_count": null,
   "metadata": {
    "collapsed": true
   },
   "outputs": [],
   "source": []
  },
  {
   "cell_type": "code",
   "execution_count": null,
   "metadata": {
    "collapsed": true
   },
   "outputs": [],
   "source": []
  },
  {
   "cell_type": "code",
   "execution_count": 7,
   "metadata": {
    "collapsed": true
   },
   "outputs": [],
   "source": [
    "#The process of generating patches is time consuming. SO we generate a numpy file of X and y correspind t every image. Next time we can simply load these arrays to do the computation.\n",
    "def gen_np_array(folder1,folder2,desired_size):    \n",
    "    img_id=0\n",
    "    for i in os.listdir(folder1): \n",
    "        img_id+=1\n",
    "        patch_size = 96\n",
    "        total=0\n",
    "        cnt=0\n",
    "        X = np.zeros((1,patch_size,patch_size, 5))\n",
    "        y = np.zeros((1,patch_size,patch_size,10))\n",
    "        print (\"Image {} is done\".format(i))\n",
    "        \n",
    "        img  = io.imread(folder1+\"/\"+i)\n",
    "        label = io.imread(folder2+\"/\"+i)\n",
    "        \n",
    "        print (np.max(label),label.shape)\n",
    "        n_classes = 10\n",
    "        \n",
    "        \n",
    "        seg_labels = np.zeros((  img.shape[0] , img.shape[1]  , n_classes )) \n",
    "        \n",
    "\n",
    "        for c in range(n_classes):\n",
    "            seg_labels[: , : , c ] = (label == c).astype(int)\n",
    "        \n",
    "        loop_1 =  img.shape[1]//patch_size\n",
    "        loop_2 =  img.shape[0]//patch_size\n",
    "        \n",
    "        \n",
    "        for h in range(loop_2):\n",
    "            for w in range(loop_1):\n",
    "                common_img = img[h*patch_size:(h+1)*patch_size,w*patch_size:(w+1)*patch_size,:]\n",
    "                common_label = seg_labels[h*patch_size:(h+1)*patch_size,w*patch_size:(w+1)*patch_size,:]\n",
    "                \n",
    "                \n",
    "                if (label[h*patch_size:(h+1)*patch_size,w*patch_size:(w+1)*patch_size]==6).all():\n",
    "                    \n",
    "                    \n",
    "                    \n",
    "                    cnt+=1\n",
    "\n",
    "                    if cnt<2:\n",
    "                        print (1)\n",
    "\n",
    "                        #print(y.shape,one_hot_vec[h*200:(h+1)*200,w*200:(w+1)*200,:].shape)\n",
    "                        #print (X.shape,img[h*200:(h+1)*200,w*200:(w+1)*200,:].shape)\n",
    "                        X = np.concatenate((X,np.expand_dims(common_img,axis=0)),axis=0)\n",
    "                        y = np.concatenate((y,np.expand_dims(common_label,axis=0)),axis=0)\n",
    "                        \n",
    "    \n",
    "                else:\n",
    "\n",
    "                        X = np.concatenate((X,np.expand_dims(common_img,axis=0)),axis=0)\n",
    "                        y = np.concatenate((y,np.expand_dims(common_label,axis=0)),axis=0)\n",
    "                        \n",
    "                    \n",
    "                    \n",
    "                total+=1\n",
    "                \n",
    "\n",
    "\n",
    "        \n",
    "\n",
    "\n",
    "        X = np.array(X[1:])\n",
    "        y = np.array(y[1:])\n",
    "\n",
    "        np.save(\"arrays/individual/\"+\"X_\"+str(img_id),X)\n",
    "        np.save(\"arrays/individual/\"+\"y_\"+str(img_id),y)\n",
    "    "
   ]
  },
  {
   "cell_type": "code",
   "execution_count": 50,
   "metadata": {},
   "outputs": [
    {
     "name": "stdout",
     "output_type": "stream",
     "text": [
      "Image 13.tif is done\n",
      "9 (1536, 1536)\n",
      "Image 4.tif is done\n",
      "8 (1728, 1728)\n",
      "Image 2.tif is done\n",
      "9 (960, 960)\n",
      "Image 14.tif is done\n",
      "8 (672, 864)\n",
      "Image 8.tif is done\n",
      "8 (1152, 960)\n",
      "Image 3.tif is done\n",
      "8 (1152, 1248)\n",
      "Image 7.tif is done\n",
      "9 (960, 1056)\n",
      "Image 6.tif is done\n",
      "9 (864, 960)\n",
      "Image 5.tif is done\n",
      "9 (1344, 1536)\n",
      "Image 10.tif is done\n",
      "9 (1152, 1536)\n",
      "Image 9.tif is done\n",
      "8 (768, 864)\n",
      "Image 12.tif is done\n",
      "8 (864, 1056)\n",
      "Image 11.tif is done\n",
      "8 (1056, 1152)\n",
      "Image 1.tif is done\n",
      "9 (1344, 1440)\n"
     ]
    },
    {
     "ename": "TypeError",
     "evalue": "'NoneType' object is not iterable",
     "output_type": "error",
     "traceback": [
      "\u001b[0;31m---------------------------------------------------------------------------\u001b[0m",
      "\u001b[0;31mTypeError\u001b[0m                                 Traceback (most recent call last)",
      "\u001b[0;32m<ipython-input-50-0b284ccc7ea0>\u001b[0m in \u001b[0;36m<module>\u001b[0;34m()\u001b[0m\n\u001b[0;32m----> 1\u001b[0;31m \u001b[0mtrain_x\u001b[0m\u001b[0;34m,\u001b[0m\u001b[0mtrain_y\u001b[0m \u001b[0;34m=\u001b[0m \u001b[0mgen_np_array\u001b[0m\u001b[0;34m(\u001b[0m \u001b[0;34m'../arrays/train_x'\u001b[0m\u001b[0;34m,\u001b[0m\u001b[0;34m'../arrays/train_y'\u001b[0m\u001b[0;34m,\u001b[0m\u001b[0;36m2112\u001b[0m \u001b[0;34m)\u001b[0m\u001b[0;34m\u001b[0m\u001b[0m\n\u001b[0m",
      "\u001b[0;31mTypeError\u001b[0m: 'NoneType' object is not iterable"
     ]
    }
   ],
   "source": [
    "train_x,train_y = gen_np_array( 'arrays/train_x','arrays/train_y',2112 )"
   ]
  },
  {
   "cell_type": "code",
   "execution_count": 51,
   "metadata": {
    "collapsed": true
   },
   "outputs": [],
   "source": []
  },
  {
   "cell_type": "code",
   "execution_count": null,
   "metadata": {
    "collapsed": true
   },
   "outputs": [],
   "source": []
  },
  {
   "cell_type": "code",
   "execution_count": null,
   "metadata": {
    "collapsed": true
   },
   "outputs": [],
   "source": []
  },
  {
   "cell_type": "code",
   "execution_count": null,
   "metadata": {
    "collapsed": true
   },
   "outputs": [],
   "source": []
  },
  {
   "cell_type": "code",
   "execution_count": null,
   "metadata": {
    "collapsed": true
   },
   "outputs": [],
   "source": []
  },
  {
   "cell_type": "code",
   "execution_count": null,
   "metadata": {
    "collapsed": true
   },
   "outputs": [],
   "source": []
  },
  {
   "cell_type": "code",
   "execution_count": null,
   "metadata": {
    "collapsed": true
   },
   "outputs": [],
   "source": []
  },
  {
   "cell_type": "code",
   "execution_count": null,
   "metadata": {
    "collapsed": true
   },
   "outputs": [],
   "source": []
  },
  {
   "cell_type": "code",
   "execution_count": null,
   "metadata": {
    "collapsed": true
   },
   "outputs": [],
   "source": []
  },
  {
   "cell_type": "code",
   "execution_count": null,
   "metadata": {
    "collapsed": true
   },
   "outputs": [],
   "source": []
  }
 ],
 "metadata": {
  "anaconda-cloud": {},
  "kernelspec": {
   "display_name": "Python 3",
   "language": "python",
   "name": "python3"
  },
  "language_info": {
   "codemirror_mode": {
    "name": "ipython",
    "version": 3
   },
   "file_extension": ".py",
   "mimetype": "text/x-python",
   "name": "python",
   "nbconvert_exporter": "python",
   "pygments_lexer": "ipython3",
   "version": "3.6.3"
  }
 },
 "nbformat": 4,
 "nbformat_minor": 2
}
